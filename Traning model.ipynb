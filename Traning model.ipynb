{
  "cells": [
    {
      "cell_type": "code",
      "execution_count": null,
      "metadata": {
        "id": "KMWtuj5z1-at"
      },
      "outputs": [],
      "source": [
        "# !wget https://github.com/ultralytics/assets/releases/download/v8.3.0/yolo11n-cls.pt\n",
        "# !wget https://github.com/ultralytics/assets/releases/download/v8.3.0/yolo11m-cls.pt"
      ]
    },
    {
      "cell_type": "code",
      "execution_count": null,
      "metadata": {
        "collapsed": true,
        "id": "yA97YnPFvDbs"
      },
      "outputs": [],
      "source": [
        "!pip install Ultralytics"
      ]
    },
    {
      "cell_type": "code",
      "execution_count": null,
      "metadata": {
        "collapsed": true,
        "id": "7T6JDqzkyiai"
      },
      "outputs": [],
      "source": [
        "!wget https://github.com/ultralytics/assets/releases/download/v8.3.0/yolo11n.pt"
      ]
    },
    {
      "cell_type": "code",
      "source": [
        "!gdown 1Q2c7FXrHaEyNJ5aa33CyHApr8n1P2asT"
      ],
      "metadata": {
        "id": "Q4AfAHtcCxoy",
        "collapsed": true
      },
      "execution_count": null,
      "outputs": []
    },
    {
      "cell_type": "code",
      "execution_count": null,
      "metadata": {
        "collapsed": true,
        "id": "fdONoPzl0S6W"
      },
      "outputs": [],
      "source": [
        "!unzip '/content/Pineapple defect detection 2.v7i.yolov11.zip'"
      ]
    },
    {
      "cell_type": "code",
      "execution_count": null,
      "metadata": {
        "id": "FO-T4nfIzx3M",
        "collapsed": true
      },
      "outputs": [],
      "source": [
        "from IPython.display import Image\n",
        "from ultralytics import YOLO"
      ]
    },
    {
      "cell_type": "code",
      "execution_count": null,
      "metadata": {
        "id": "RmJLRFIKvU9k"
      },
      "outputs": [],
      "source": [
        "model = YOLO('/content/yolo11n.pt')"
      ]
    },
    {
      "cell_type": "code",
      "execution_count": null,
      "metadata": {
        "id": "ULwzsICS1Dol",
        "collapsed": true
      },
      "outputs": [],
      "source": [
        "import torch\n",
        "devices = torch.device(\"cuda\" if torch.cuda.is_available() else \"cpu\")\n",
        "print(devices)"
      ]
    },
    {
      "cell_type": "code",
      "execution_count": null,
      "metadata": {
        "id": "UxN6yBpC4YUf",
        "collapsed": true
      },
      "outputs": [],
      "source": [
        "train_results = model.train(\n",
        "    data = '/content/data.yaml',\n",
        "    epochs = 50,\n",
        "    imgsz = 640,\n",
        "    device = devices\n",
        "    )"
      ]
    },
    {
      "cell_type": "code",
      "source": [
        "import pandas as pd\n",
        "import matplotlib.pyplot as plt\n",
        "\n",
        "results_path = '/content/runs/detect/train/results.csv'\n",
        "df = pd.read_csv(results_path)\n",
        "df.tail()"
      ],
      "metadata": {
        "colab": {
          "base_uri": "https://localhost:8080/",
          "height": 244
        },
        "id": "buBAe5LKcy6W",
        "outputId": "8010eb90-1ceb-415e-8978-23fa85fe88e4",
        "collapsed": true
      },
      "execution_count": null,
      "outputs": [
        {
          "output_type": "execute_result",
          "data": {
            "text/plain": [
              "    epoch     time  train/box_loss  train/cls_loss  train/dfl_loss  \\\n",
              "45     46  5102.99         1.13062         0.54298         1.21204   \n",
              "46     47  5209.60         1.11823         0.53788         1.20550   \n",
              "47     48  5316.98         1.11862         0.53368         1.20940   \n",
              "48     49  5421.28         1.10543         0.52712         1.19929   \n",
              "49     50  5527.80         1.10088         0.52484         1.19739   \n",
              "\n",
              "    metrics/precision(B)  metrics/recall(B)  metrics/mAP50(B)  \\\n",
              "45               0.87854            0.90065           0.91918   \n",
              "46               0.89171            0.90011           0.92275   \n",
              "47               0.89239            0.89879           0.92283   \n",
              "48               0.88208            0.90702           0.92199   \n",
              "49               0.88692            0.90429           0.92191   \n",
              "\n",
              "    metrics/mAP50-95(B)  val/box_loss  val/cls_loss  val/dfl_loss    lr/pg0  \\\n",
              "45              0.64984       1.04753       0.55332       1.19746  0.000109   \n",
              "46              0.64996       1.05292       0.54660       1.20216  0.000089   \n",
              "47              0.65175       1.05458       0.54729       1.20110  0.000069   \n",
              "48              0.64937       1.06095       0.54806       1.20672  0.000050   \n",
              "49              0.64946       1.06081       0.54938       1.20518  0.000030   \n",
              "\n",
              "      lr/pg1    lr/pg2  \n",
              "45  0.000109  0.000109  \n",
              "46  0.000089  0.000089  \n",
              "47  0.000069  0.000069  \n",
              "48  0.000050  0.000050  \n",
              "49  0.000030  0.000030  "
            ],
            "text/html": [
              "\n",
              "  <div id=\"df-2bd0d462-be8d-4a6d-8f8e-9d49408f0978\" class=\"colab-df-container\">\n",
              "    <div>\n",
              "<style scoped>\n",
              "    .dataframe tbody tr th:only-of-type {\n",
              "        vertical-align: middle;\n",
              "    }\n",
              "\n",
              "    .dataframe tbody tr th {\n",
              "        vertical-align: top;\n",
              "    }\n",
              "\n",
              "    .dataframe thead th {\n",
              "        text-align: right;\n",
              "    }\n",
              "</style>\n",
              "<table border=\"1\" class=\"dataframe\">\n",
              "  <thead>\n",
              "    <tr style=\"text-align: right;\">\n",
              "      <th></th>\n",
              "      <th>epoch</th>\n",
              "      <th>time</th>\n",
              "      <th>train/box_loss</th>\n",
              "      <th>train/cls_loss</th>\n",
              "      <th>train/dfl_loss</th>\n",
              "      <th>metrics/precision(B)</th>\n",
              "      <th>metrics/recall(B)</th>\n",
              "      <th>metrics/mAP50(B)</th>\n",
              "      <th>metrics/mAP50-95(B)</th>\n",
              "      <th>val/box_loss</th>\n",
              "      <th>val/cls_loss</th>\n",
              "      <th>val/dfl_loss</th>\n",
              "      <th>lr/pg0</th>\n",
              "      <th>lr/pg1</th>\n",
              "      <th>lr/pg2</th>\n",
              "    </tr>\n",
              "  </thead>\n",
              "  <tbody>\n",
              "    <tr>\n",
              "      <th>45</th>\n",
              "      <td>46</td>\n",
              "      <td>5102.99</td>\n",
              "      <td>1.13062</td>\n",
              "      <td>0.54298</td>\n",
              "      <td>1.21204</td>\n",
              "      <td>0.87854</td>\n",
              "      <td>0.90065</td>\n",
              "      <td>0.91918</td>\n",
              "      <td>0.64984</td>\n",
              "      <td>1.04753</td>\n",
              "      <td>0.55332</td>\n",
              "      <td>1.19746</td>\n",
              "      <td>0.000109</td>\n",
              "      <td>0.000109</td>\n",
              "      <td>0.000109</td>\n",
              "    </tr>\n",
              "    <tr>\n",
              "      <th>46</th>\n",
              "      <td>47</td>\n",
              "      <td>5209.60</td>\n",
              "      <td>1.11823</td>\n",
              "      <td>0.53788</td>\n",
              "      <td>1.20550</td>\n",
              "      <td>0.89171</td>\n",
              "      <td>0.90011</td>\n",
              "      <td>0.92275</td>\n",
              "      <td>0.64996</td>\n",
              "      <td>1.05292</td>\n",
              "      <td>0.54660</td>\n",
              "      <td>1.20216</td>\n",
              "      <td>0.000089</td>\n",
              "      <td>0.000089</td>\n",
              "      <td>0.000089</td>\n",
              "    </tr>\n",
              "    <tr>\n",
              "      <th>47</th>\n",
              "      <td>48</td>\n",
              "      <td>5316.98</td>\n",
              "      <td>1.11862</td>\n",
              "      <td>0.53368</td>\n",
              "      <td>1.20940</td>\n",
              "      <td>0.89239</td>\n",
              "      <td>0.89879</td>\n",
              "      <td>0.92283</td>\n",
              "      <td>0.65175</td>\n",
              "      <td>1.05458</td>\n",
              "      <td>0.54729</td>\n",
              "      <td>1.20110</td>\n",
              "      <td>0.000069</td>\n",
              "      <td>0.000069</td>\n",
              "      <td>0.000069</td>\n",
              "    </tr>\n",
              "    <tr>\n",
              "      <th>48</th>\n",
              "      <td>49</td>\n",
              "      <td>5421.28</td>\n",
              "      <td>1.10543</td>\n",
              "      <td>0.52712</td>\n",
              "      <td>1.19929</td>\n",
              "      <td>0.88208</td>\n",
              "      <td>0.90702</td>\n",
              "      <td>0.92199</td>\n",
              "      <td>0.64937</td>\n",
              "      <td>1.06095</td>\n",
              "      <td>0.54806</td>\n",
              "      <td>1.20672</td>\n",
              "      <td>0.000050</td>\n",
              "      <td>0.000050</td>\n",
              "      <td>0.000050</td>\n",
              "    </tr>\n",
              "    <tr>\n",
              "      <th>49</th>\n",
              "      <td>50</td>\n",
              "      <td>5527.80</td>\n",
              "      <td>1.10088</td>\n",
              "      <td>0.52484</td>\n",
              "      <td>1.19739</td>\n",
              "      <td>0.88692</td>\n",
              "      <td>0.90429</td>\n",
              "      <td>0.92191</td>\n",
              "      <td>0.64946</td>\n",
              "      <td>1.06081</td>\n",
              "      <td>0.54938</td>\n",
              "      <td>1.20518</td>\n",
              "      <td>0.000030</td>\n",
              "      <td>0.000030</td>\n",
              "      <td>0.000030</td>\n",
              "    </tr>\n",
              "  </tbody>\n",
              "</table>\n",
              "</div>\n",
              "    <div class=\"colab-df-buttons\">\n",
              "\n",
              "  <div class=\"colab-df-container\">\n",
              "    <button class=\"colab-df-convert\" onclick=\"convertToInteractive('df-2bd0d462-be8d-4a6d-8f8e-9d49408f0978')\"\n",
              "            title=\"Convert this dataframe to an interactive table.\"\n",
              "            style=\"display:none;\">\n",
              "\n",
              "  <svg xmlns=\"http://www.w3.org/2000/svg\" height=\"24px\" viewBox=\"0 -960 960 960\">\n",
              "    <path d=\"M120-120v-720h720v720H120Zm60-500h600v-160H180v160Zm220 220h160v-160H400v160Zm0 220h160v-160H400v160ZM180-400h160v-160H180v160Zm440 0h160v-160H620v160ZM180-180h160v-160H180v160Zm440 0h160v-160H620v160Z\"/>\n",
              "  </svg>\n",
              "    </button>\n",
              "\n",
              "  <style>\n",
              "    .colab-df-container {\n",
              "      display:flex;\n",
              "      gap: 12px;\n",
              "    }\n",
              "\n",
              "    .colab-df-convert {\n",
              "      background-color: #E8F0FE;\n",
              "      border: none;\n",
              "      border-radius: 50%;\n",
              "      cursor: pointer;\n",
              "      display: none;\n",
              "      fill: #1967D2;\n",
              "      height: 32px;\n",
              "      padding: 0 0 0 0;\n",
              "      width: 32px;\n",
              "    }\n",
              "\n",
              "    .colab-df-convert:hover {\n",
              "      background-color: #E2EBFA;\n",
              "      box-shadow: 0px 1px 2px rgba(60, 64, 67, 0.3), 0px 1px 3px 1px rgba(60, 64, 67, 0.15);\n",
              "      fill: #174EA6;\n",
              "    }\n",
              "\n",
              "    .colab-df-buttons div {\n",
              "      margin-bottom: 4px;\n",
              "    }\n",
              "\n",
              "    [theme=dark] .colab-df-convert {\n",
              "      background-color: #3B4455;\n",
              "      fill: #D2E3FC;\n",
              "    }\n",
              "\n",
              "    [theme=dark] .colab-df-convert:hover {\n",
              "      background-color: #434B5C;\n",
              "      box-shadow: 0px 1px 3px 1px rgba(0, 0, 0, 0.15);\n",
              "      filter: drop-shadow(0px 1px 2px rgba(0, 0, 0, 0.3));\n",
              "      fill: #FFFFFF;\n",
              "    }\n",
              "  </style>\n",
              "\n",
              "    <script>\n",
              "      const buttonEl =\n",
              "        document.querySelector('#df-2bd0d462-be8d-4a6d-8f8e-9d49408f0978 button.colab-df-convert');\n",
              "      buttonEl.style.display =\n",
              "        google.colab.kernel.accessAllowed ? 'block' : 'none';\n",
              "\n",
              "      async function convertToInteractive(key) {\n",
              "        const element = document.querySelector('#df-2bd0d462-be8d-4a6d-8f8e-9d49408f0978');\n",
              "        const dataTable =\n",
              "          await google.colab.kernel.invokeFunction('convertToInteractive',\n",
              "                                                    [key], {});\n",
              "        if (!dataTable) return;\n",
              "\n",
              "        const docLinkHtml = 'Like what you see? Visit the ' +\n",
              "          '<a target=\"_blank\" href=https://colab.research.google.com/notebooks/data_table.ipynb>data table notebook</a>'\n",
              "          + ' to learn more about interactive tables.';\n",
              "        element.innerHTML = '';\n",
              "        dataTable['output_type'] = 'display_data';\n",
              "        await google.colab.output.renderOutput(dataTable, element);\n",
              "        const docLink = document.createElement('div');\n",
              "        docLink.innerHTML = docLinkHtml;\n",
              "        element.appendChild(docLink);\n",
              "      }\n",
              "    </script>\n",
              "  </div>\n",
              "\n",
              "\n",
              "    <div id=\"df-fcca677d-84d2-45b9-aeb8-b09dc09b04b7\">\n",
              "      <button class=\"colab-df-quickchart\" onclick=\"quickchart('df-fcca677d-84d2-45b9-aeb8-b09dc09b04b7')\"\n",
              "                title=\"Suggest charts\"\n",
              "                style=\"display:none;\">\n",
              "\n",
              "<svg xmlns=\"http://www.w3.org/2000/svg\" height=\"24px\"viewBox=\"0 0 24 24\"\n",
              "     width=\"24px\">\n",
              "    <g>\n",
              "        <path d=\"M19 3H5c-1.1 0-2 .9-2 2v14c0 1.1.9 2 2 2h14c1.1 0 2-.9 2-2V5c0-1.1-.9-2-2-2zM9 17H7v-7h2v7zm4 0h-2V7h2v10zm4 0h-2v-4h2v4z\"/>\n",
              "    </g>\n",
              "</svg>\n",
              "      </button>\n",
              "\n",
              "<style>\n",
              "  .colab-df-quickchart {\n",
              "      --bg-color: #E8F0FE;\n",
              "      --fill-color: #1967D2;\n",
              "      --hover-bg-color: #E2EBFA;\n",
              "      --hover-fill-color: #174EA6;\n",
              "      --disabled-fill-color: #AAA;\n",
              "      --disabled-bg-color: #DDD;\n",
              "  }\n",
              "\n",
              "  [theme=dark] .colab-df-quickchart {\n",
              "      --bg-color: #3B4455;\n",
              "      --fill-color: #D2E3FC;\n",
              "      --hover-bg-color: #434B5C;\n",
              "      --hover-fill-color: #FFFFFF;\n",
              "      --disabled-bg-color: #3B4455;\n",
              "      --disabled-fill-color: #666;\n",
              "  }\n",
              "\n",
              "  .colab-df-quickchart {\n",
              "    background-color: var(--bg-color);\n",
              "    border: none;\n",
              "    border-radius: 50%;\n",
              "    cursor: pointer;\n",
              "    display: none;\n",
              "    fill: var(--fill-color);\n",
              "    height: 32px;\n",
              "    padding: 0;\n",
              "    width: 32px;\n",
              "  }\n",
              "\n",
              "  .colab-df-quickchart:hover {\n",
              "    background-color: var(--hover-bg-color);\n",
              "    box-shadow: 0 1px 2px rgba(60, 64, 67, 0.3), 0 1px 3px 1px rgba(60, 64, 67, 0.15);\n",
              "    fill: var(--button-hover-fill-color);\n",
              "  }\n",
              "\n",
              "  .colab-df-quickchart-complete:disabled,\n",
              "  .colab-df-quickchart-complete:disabled:hover {\n",
              "    background-color: var(--disabled-bg-color);\n",
              "    fill: var(--disabled-fill-color);\n",
              "    box-shadow: none;\n",
              "  }\n",
              "\n",
              "  .colab-df-spinner {\n",
              "    border: 2px solid var(--fill-color);\n",
              "    border-color: transparent;\n",
              "    border-bottom-color: var(--fill-color);\n",
              "    animation:\n",
              "      spin 1s steps(1) infinite;\n",
              "  }\n",
              "\n",
              "  @keyframes spin {\n",
              "    0% {\n",
              "      border-color: transparent;\n",
              "      border-bottom-color: var(--fill-color);\n",
              "      border-left-color: var(--fill-color);\n",
              "    }\n",
              "    20% {\n",
              "      border-color: transparent;\n",
              "      border-left-color: var(--fill-color);\n",
              "      border-top-color: var(--fill-color);\n",
              "    }\n",
              "    30% {\n",
              "      border-color: transparent;\n",
              "      border-left-color: var(--fill-color);\n",
              "      border-top-color: var(--fill-color);\n",
              "      border-right-color: var(--fill-color);\n",
              "    }\n",
              "    40% {\n",
              "      border-color: transparent;\n",
              "      border-right-color: var(--fill-color);\n",
              "      border-top-color: var(--fill-color);\n",
              "    }\n",
              "    60% {\n",
              "      border-color: transparent;\n",
              "      border-right-color: var(--fill-color);\n",
              "    }\n",
              "    80% {\n",
              "      border-color: transparent;\n",
              "      border-right-color: var(--fill-color);\n",
              "      border-bottom-color: var(--fill-color);\n",
              "    }\n",
              "    90% {\n",
              "      border-color: transparent;\n",
              "      border-bottom-color: var(--fill-color);\n",
              "    }\n",
              "  }\n",
              "</style>\n",
              "\n",
              "      <script>\n",
              "        async function quickchart(key) {\n",
              "          const quickchartButtonEl =\n",
              "            document.querySelector('#' + key + ' button');\n",
              "          quickchartButtonEl.disabled = true;  // To prevent multiple clicks.\n",
              "          quickchartButtonEl.classList.add('colab-df-spinner');\n",
              "          try {\n",
              "            const charts = await google.colab.kernel.invokeFunction(\n",
              "                'suggestCharts', [key], {});\n",
              "          } catch (error) {\n",
              "            console.error('Error during call to suggestCharts:', error);\n",
              "          }\n",
              "          quickchartButtonEl.classList.remove('colab-df-spinner');\n",
              "          quickchartButtonEl.classList.add('colab-df-quickchart-complete');\n",
              "        }\n",
              "        (() => {\n",
              "          let quickchartButtonEl =\n",
              "            document.querySelector('#df-fcca677d-84d2-45b9-aeb8-b09dc09b04b7 button');\n",
              "          quickchartButtonEl.style.display =\n",
              "            google.colab.kernel.accessAllowed ? 'block' : 'none';\n",
              "        })();\n",
              "      </script>\n",
              "    </div>\n",
              "\n",
              "    </div>\n",
              "  </div>\n"
            ],
            "application/vnd.google.colaboratory.intrinsic+json": {
              "type": "dataframe",
              "summary": "{\n  \"name\": \"df\",\n  \"rows\": 5,\n  \"fields\": [\n    {\n      \"column\": \"epoch\",\n      \"properties\": {\n        \"dtype\": \"number\",\n        \"std\": 1,\n        \"min\": 46,\n        \"max\": 50,\n        \"num_unique_values\": 5,\n        \"samples\": [\n          47,\n          50,\n          48\n        ],\n        \"semantic_type\": \"\",\n        \"description\": \"\"\n      }\n    },\n    {\n      \"column\": \"time\",\n      \"properties\": {\n        \"dtype\": \"number\",\n        \"std\": 167.80787704991684,\n        \"min\": 5102.99,\n        \"max\": 5527.8,\n        \"num_unique_values\": 5,\n        \"samples\": [\n          5209.6,\n          5527.8,\n          5316.98\n        ],\n        \"semantic_type\": \"\",\n        \"description\": \"\"\n      }\n    },\n    {\n      \"column\": \"train/box_loss\",\n      \"properties\": {\n        \"dtype\": \"number\",\n        \"std\": 0.011812951790302012,\n        \"min\": 1.10088,\n        \"max\": 1.13062,\n        \"num_unique_values\": 5,\n        \"samples\": [\n          1.11823,\n          1.10088,\n          1.11862\n        ],\n        \"semantic_type\": \"\",\n        \"description\": \"\"\n      }\n    },\n    {\n      \"column\": \"train/cls_loss\",\n      \"properties\": {\n        \"dtype\": \"number\",\n        \"std\": 0.0074931168414752595,\n        \"min\": 0.52484,\n        \"max\": 0.54298,\n        \"num_unique_values\": 5,\n        \"samples\": [\n          0.53788,\n          0.52484,\n          0.53368\n        ],\n        \"semantic_type\": \"\",\n        \"description\": \"\"\n      }\n    },\n    {\n      \"column\": \"train/dfl_loss\",\n      \"properties\": {\n        \"dtype\": \"number\",\n        \"std\": 0.006310842257575478,\n        \"min\": 1.19739,\n        \"max\": 1.21204,\n        \"num_unique_values\": 5,\n        \"samples\": [\n          1.2055,\n          1.19739,\n          1.2094\n        ],\n        \"semantic_type\": \"\",\n        \"description\": \"\"\n      }\n    },\n    {\n      \"column\": \"metrics/precision(B)\",\n      \"properties\": {\n        \"dtype\": \"number\",\n        \"std\": 0.006015868183396323,\n        \"min\": 0.87854,\n        \"max\": 0.89239,\n        \"num_unique_values\": 5,\n        \"samples\": [\n          0.89171,\n          0.88692,\n          0.89239\n        ],\n        \"semantic_type\": \"\",\n        \"description\": \"\"\n      }\n    },\n    {\n      \"column\": \"metrics/recall(B)\",\n      \"properties\": {\n        \"dtype\": \"number\",\n        \"std\": 0.003390991005591178,\n        \"min\": 0.89879,\n        \"max\": 0.90702,\n        \"num_unique_values\": 5,\n        \"samples\": [\n          0.90011,\n          0.90429,\n          0.89879\n        ],\n        \"semantic_type\": \"\",\n        \"description\": \"\"\n      }\n    },\n    {\n      \"column\": \"metrics/mAP50(B)\",\n      \"properties\": {\n        \"dtype\": \"number\",\n        \"std\": 0.0014876894837297205,\n        \"min\": 0.91918,\n        \"max\": 0.92283,\n        \"num_unique_values\": 5,\n        \"samples\": [\n          0.92275,\n          0.92191,\n          0.92283\n        ],\n        \"semantic_type\": \"\",\n        \"description\": \"\"\n      }\n    },\n    {\n      \"column\": \"metrics/mAP50-95(B)\",\n      \"properties\": {\n        \"dtype\": \"number\",\n        \"std\": 0.0009681580449492917,\n        \"min\": 0.64937,\n        \"max\": 0.65175,\n        \"num_unique_values\": 5,\n        \"samples\": [\n          0.64996,\n          0.64946,\n          0.65175\n        ],\n        \"semantic_type\": \"\",\n        \"description\": \"\"\n      }\n    },\n    {\n      \"column\": \"val/box_loss\",\n      \"properties\": {\n        \"dtype\": \"number\",\n        \"std\": 0.005674977532995161,\n        \"min\": 1.04753,\n        \"max\": 1.06095,\n        \"num_unique_values\": 5,\n        \"samples\": [\n          1.05292,\n          1.06081,\n          1.05458\n        ],\n        \"semantic_type\": \"\",\n        \"description\": \"\"\n      }\n    },\n    {\n      \"column\": \"val/cls_loss\",\n      \"properties\": {\n        \"dtype\": \"number\",\n        \"std\": 0.0026622359023948383,\n        \"min\": 0.5466,\n        \"max\": 0.55332,\n        \"num_unique_values\": 5,\n        \"samples\": [\n          0.5466,\n          0.54938,\n          0.54729\n        ],\n        \"semantic_type\": \"\",\n        \"description\": \"\"\n      }\n    },\n    {\n      \"column\": \"val/dfl_loss\",\n      \"properties\": {\n        \"dtype\": \"number\",\n        \"std\": 0.003621640512254078,\n        \"min\": 1.19746,\n        \"max\": 1.20672,\n        \"num_unique_values\": 5,\n        \"samples\": [\n          1.20216,\n          1.20518,\n          1.2011\n        ],\n        \"semantic_type\": \"\",\n        \"description\": \"\"\n      }\n    },\n    {\n      \"column\": \"lr/pg0\",\n      \"properties\": {\n        \"dtype\": \"number\",\n        \"std\": 3.130654883566696e-05,\n        \"min\": 2.98e-05,\n        \"max\": 0.000109,\n        \"num_unique_values\": 5,\n        \"samples\": [\n          8.92e-05,\n          2.98e-05,\n          6.94e-05\n        ],\n        \"semantic_type\": \"\",\n        \"description\": \"\"\n      }\n    },\n    {\n      \"column\": \"lr/pg1\",\n      \"properties\": {\n        \"dtype\": \"number\",\n        \"std\": 3.130654883566696e-05,\n        \"min\": 2.98e-05,\n        \"max\": 0.000109,\n        \"num_unique_values\": 5,\n        \"samples\": [\n          8.92e-05,\n          2.98e-05,\n          6.94e-05\n        ],\n        \"semantic_type\": \"\",\n        \"description\": \"\"\n      }\n    },\n    {\n      \"column\": \"lr/pg2\",\n      \"properties\": {\n        \"dtype\": \"number\",\n        \"std\": 3.130654883566696e-05,\n        \"min\": 2.98e-05,\n        \"max\": 0.000109,\n        \"num_unique_values\": 5,\n        \"samples\": [\n          8.92e-05,\n          2.98e-05,\n          6.94e-05\n        ],\n        \"semantic_type\": \"\",\n        \"description\": \"\"\n      }\n    }\n  ]\n}"
            }
          },
          "metadata": {},
          "execution_count": 47
        }
      ]
    },
    {
      "cell_type": "code",
      "source": [
        "import matplotlib.pyplot as plt\n",
        "\n",
        "plt.figure(figsize=(10, 5))\n",
        "plt.plot(df['epoch'], df['train/box_loss'], label='Train Box Loss')\n",
        "plt.plot(df['epoch'], df['val/box_loss'], label='Validation Box Loss')\n",
        "plt.xlabel('Epoch')\n",
        "plt.ylabel('Loss')\n",
        "plt.title('Box Loss over Epochs')\n",
        "plt.legend()\n",
        "plt.grid(True)\n",
        "plt.show()"
      ],
      "metadata": {
        "colab": {
          "base_uri": "https://localhost:8080/",
          "height": 487
        },
        "id": "pMw_Yhr4e5dC",
        "outputId": "9f119589-723a-41a5-d0e2-8b88c83a8789"
      },
      "execution_count": null,
      "outputs": [
        {
          "output_type": "display_data",
          "data": {
            "text/plain": [
              "<Figure size 1000x500 with 1 Axes>"
            ],
            "image/png": "[encoded data removed]"
          },
          "metadata": {}
        }
      ]
    },
    {
      "cell_type": "code",
      "source": [
        "import matplotlib.pyplot as plt\n",
        "\n",
        "plt.figure(figsize=(10, 5))\n",
        "plt.plot(df['epoch'], df['train/cls_loss'], label='Train Class Loss')\n",
        "plt.plot(df['epoch'], df['val/cls_loss'], label='Validation Class Loss')\n",
        "plt.xlabel('Epoch')\n",
        "plt.ylabel('Loss')\n",
        "plt.title('Class Loss over Epochs')\n",
        "plt.legend()\n",
        "plt.grid(True)\n",
        "plt.show()"
      ],
      "metadata": {
        "colab": {
          "base_uri": "https://localhost:8080/",
          "height": 487
        },
        "id": "uzN_1ZWyfWyR",
        "outputId": "59f493cc-0cea-4b7e-b053-75d18e02948d"
      },
      "execution_count": null,
      "outputs": [
        {
          "output_type": "display_data",
          "data": {
            "text/plain": [
              "<Figure size 1000x500 with 1 Axes>"
            ],
            "image/png": "[encoded data removed]"
          },
          "metadata": {}
        }
      ]
    },
    {
      "cell_type": "code",
      "source": [
        "a = (5527.80 / 60) / 60\n",
        "print(f'ใช้เวลา {a:.2f} ชั่วโมง')"
      ],
      "metadata": {
        "colab": {
          "base_uri": "https://localhost:8080/"
        },
        "id": "EKviG_theuAJ",
        "outputId": "6605ceb5-0fb8-46bc-cb37-7484036a2edf"
      },
      "execution_count": null,
      "outputs": [
        {
          "output_type": "stream",
          "name": "stdout",
          "text": [
            "ใช้เวลา 1.54 ชั่วโมง\n"
          ]
        }
      ]
    },
    {
      "cell_type": "code",
      "source": [
        "pred.names"
      ],
      "metadata": {
        "colab": {
          "base_uri": "https://localhost:8080/"
        },
        "id": "vJa2_v7gjOcG",
        "outputId": "9d189c83-9fee-4455-ab5b-6a633540a37b"
      },
      "execution_count": null,
      "outputs": [
        {
          "output_type": "execute_result",
          "data": {
            "text/plain": [
              "{0: 'Defects-black spots',\n",
              " 1: 'Defects-holes',\n",
              " 2: 'Defects-white fungus',\n",
              " 3: 'overripe',\n",
              " 4: 'ripe',\n",
              " 5: 'unripe'}"
            ]
          },
          "metadata": {},
          "execution_count": 37
        }
      ]
    },
    {
      "cell_type": "code",
      "source": [
        "!gdown --folder https://drive.google.com/drive/folders/1M8J7nWlCxG8n05NufPQVrchunywza8WF?usp=sharing"
      ],
      "metadata": {
        "colab": {
          "base_uri": "https://localhost:8080/"
        },
        "id": "CLy6ttbYlDjO",
        "outputId": "c6e01306-44d6-4bcf-d356-c34711d9f2a4"
      },
      "execution_count": null,
      "outputs": [
        {
          "output_type": "stream",
          "name": "stdout",
          "text": [
            "Retrieving folder contents\n",
            "Retrieving folder 1H_zwl282V-6XbXNVzdhJjVl3tZiGEYpy Pred on Vedio\n",
            "Processing file 1czE_JgtbybCraykSQ7fy16lwKdfTBdb_ result_2pineapple.mp4\n",
            "Processing file 1jLz4LP9_zNvbypjS6iplSCmpkJ90Gztt result_Discount 30%.mp4\n",
            "Processing file 1Kr6e96WLF88AYSwJCXQJfH-nhgui2xj0 result_Many_pineapple.mp4\n",
            "Processing file 1UQ7M2OR5UltK7rODcYrVrLGEyo0tmqlG 2pineapple.mp4\n",
            "Processing file 11UxSrLIGR4gp1UFC0fDsWwQ2AHYF41y7 Discount 30%.mp4\n",
            "Processing file 11JZDrTRIlUEkJ2uXnFN5Q4bspXOZlJ3r Many_pineapple.mp4\n",
            "Processing file 1CiXZChpIlREKKswyAYbA5fC5N0jgohdI Pineapple_lotus.mp4\n",
            "Processing file 1CedQrYWEsnyKPD9GTiYY1kLQ3r0cU3tb Pineapple_lotus2.mp4\n",
            "Processing file 1W7Ky7XGb1jFqLZvxtxYHzSDRAZwyd6wo pineapple_pen.pt\n",
            "Processing file 1y-RzRwdBbaT4i0JfJBG2d7BFrtoYzw_W result_Discount 30_.mp4\n",
            "Retrieving folder contents completed\n",
            "Building directory structure\n",
            "Building directory structure completed\n",
            "Downloading...\n",
            "From: https://drive.google.com/uc?id=1czE_JgtbybCraykSQ7fy16lwKdfTBdb_\n",
            "To: /content/Pineapple Pen Project/Pred on Vedio/result_2pineapple.mp4\n",
            "100% 5.65M/5.65M [00:00<00:00, 12.9MB/s]\n",
            "Downloading...\n",
            "From: https://drive.google.com/uc?id=1jLz4LP9_zNvbypjS6iplSCmpkJ90Gztt\n",
            "To: /content/Pineapple Pen Project/Pred on Vedio/result_Discount 30%.mp4\n",
            "100% 48.8M/48.8M [00:00<00:00, 69.5MB/s]\n",
            "Downloading...\n",
            "From: https://drive.google.com/uc?id=1Kr6e96WLF88AYSwJCXQJfH-nhgui2xj0\n",
            "To: /content/Pineapple Pen Project/Pred on Vedio/result_Many_pineapple.mp4\n",
            "100% 54.4M/54.4M [00:00<00:00, 79.2MB/s]\n",
            "Downloading...\n",
            "From: https://drive.google.com/uc?id=1UQ7M2OR5UltK7rODcYrVrLGEyo0tmqlG\n",
            "To: /content/Pineapple Pen Project/2pineapple.mp4\n",
            "100% 3.92M/3.92M [00:00<00:00, 264MB/s]\n",
            "Downloading...\n",
            "From: https://drive.google.com/uc?id=11UxSrLIGR4gp1UFC0fDsWwQ2AHYF41y7\n",
            "To: /content/Pineapple Pen Project/Discount 30%.mp4\n",
            "100% 28.7M/28.7M [00:00<00:00, 44.2MB/s]\n",
            "Downloading...\n",
            "From: https://drive.google.com/uc?id=11JZDrTRIlUEkJ2uXnFN5Q4bspXOZlJ3r\n",
            "To: /content/Pineapple Pen Project/Many_pineapple.mp4\n",
            "100% 18.1M/18.1M [00:00<00:00, 51.4MB/s]\n",
            "Downloading...\n",
            "From: https://drive.google.com/uc?id=1CiXZChpIlREKKswyAYbA5fC5N0jgohdI\n",
            "To: /content/Pineapple Pen Project/Pineapple_lotus.mp4\n",
            "100% 26.2M/26.2M [00:00<00:00, 63.1MB/s]\n",
            "Downloading...\n",
            "From: https://drive.google.com/uc?id=1CedQrYWEsnyKPD9GTiYY1kLQ3r0cU3tb\n",
            "To: /content/Pineapple Pen Project/Pineapple_lotus2.mp4\n",
            "100% 17.5M/17.5M [00:00<00:00, 24.0MB/s]\n",
            "Downloading...\n",
            "From: https://drive.google.com/uc?id=1W7Ky7XGb1jFqLZvxtxYHzSDRAZwyd6wo\n",
            "To: /content/Pineapple Pen Project/pineapple_pen.pt\n",
            "100% 5.48M/5.48M [00:00<00:00, 40.9MB/s]\n",
            "Downloading...\n",
            "From: https://drive.google.com/uc?id=1y-RzRwdBbaT4i0JfJBG2d7BFrtoYzw_W\n",
            "To: /content/Pineapple Pen Project/result_Discount 30_.mp4\n",
            "100% 44.7M/44.7M [00:00<00:00, 64.9MB/s]\n",
            "Download completed\n"
          ]
        }
      ]
    },
    {
      "cell_type": "code",
      "source": [
        "pred = YOLO(\"/content/runs/detect/train/weights/best.pt\")\n",
        "\n",
        "results = pred(\"/content/test/images\",\n",
        "              save=True)"
      ],
      "metadata": {
        "colab": {
          "base_uri": "https://localhost:8080/"
        },
        "id": "YIewZEcOinee",
        "outputId": "b7776d55-4478-4d95-aa56-ceaddfc4f8f0"
      },
      "execution_count": null,
      "outputs": [
        {
          "output_type": "stream",
          "name": "stdout",
          "text": [
            "\n",
            "image 1/183 /content/test/images/1605515851pineapple-fruits_medium_jpg.rf.a4c673950c348b42d4b8ac27a4e6814a.jpg: 640x640 1 overripe, 10.9ms\n",
            "image 2/183 /content/test/images/89494720-summer-fruits-for-healthy-lifestyle-pineapple-fruit-vector-illustration-cartoon-flat-icon-isolated-o_jpg.rf.9b0476c0caabb6c6ae3814dfc95b35bb.jpg: 640x640 1 overripe, 10.1ms\n",
            "image 3/183 /content/test/images/Futaba-Mini-Pineapple-Fruit-Seeds-SDL433330964-1-34ab6_jpeg_jpg.rf.20955ae16d10644e15c025ceeee7f7a3.jpg: 640x640 1 overripe, 8.9ms\n",
            "image 4/183 /content/test/images/IMG_0793_JPG_jpg.rf.f3227f4eaa07a758fae580ffe20a5085.jpg: 640x640 1 overripe, 11.9ms\n",
            "image 5/183 /content/test/images/IMG_0803_JPG_jpg.rf.1458eb08173e9a98205c691ee2b130b4.jpg: 640x640 1 overripe, 8.7ms\n",
            "image 6/183 /content/test/images/IMG_0825_JPG_jpg.rf.5ec9668063702f49fbefd238461cfd6d.jpg: 640x640 1 overripe, 8.7ms\n",
            "image 7/183 /content/test/images/IMG_0847_JPG_jpg.rf.e88bee973a864085e80bc7c37f1e4f29.jpg: 640x640 1 overripe, 8.6ms\n",
            "image 8/183 /content/test/images/IMG_0854_JPG_jpg.rf.4d00980f59d955fe8b67580d8508c633.jpg: 640x640 1 overripe, 8.7ms\n",
            "image 9/183 /content/test/images/IMG_0869_JPG_jpg.rf.d03f1b4fd4d2e699d32e43ed2a84d7dd.jpg: 640x640 1 overripe, 8.7ms\n",
            "image 10/183 /content/test/images/IMG_0870_JPG_jpg.rf.f113da7672297d82b865b43a2f75276d.jpg: 640x640 1 overripe, 9.0ms\n",
            "image 11/183 /content/test/images/IMG_0881_JPG_jpg.rf.32e6d4afd3d26048605eeaaf86adaa99.jpg: 640x640 1 unripe, 8.6ms\n",
            "image 12/183 /content/test/images/IMG_0884_JPG_jpg.rf.5dda957f3b3fe306d8e0d69b179dc0ff.jpg: 640x640 1 unripe, 8.7ms\n",
            "image 13/183 /content/test/images/IMG_0886_JPG_jpg.rf.78d300efe4a0509db5ec83c518b2142c.jpg: 640x640 1 unripe, 8.7ms\n",
            "image 14/183 /content/test/images/IMG_0900_JPG_jpg.rf.2a79206aa424b870c7a8a64a5ac4dcde.jpg: 640x640 1 unripe, 8.9ms\n",
            "image 15/183 /content/test/images/IMG_0905_JPG_jpg.rf.f10ae399805d154b812cf9234e4c7af6.jpg: 640x640 1 unripe, 8.8ms\n",
            "image 16/183 /content/test/images/IMG_0928_JPG_jpg.rf.c6134d0dfd6db094d0e59ca472c920dd.jpg: 640x640 1 unripe, 9.0ms\n",
            "image 17/183 /content/test/images/IMG_0999_JPG_jpg.rf.585a1b830939eefe0266636794869efc.jpg: 640x640 1 unripe, 9.2ms\n",
            "image 18/183 /content/test/images/IMG_1001_JPG_jpg.rf.9555a00cf36b8cf567490ae2beea3334.jpg: 640x640 1 unripe, 9.0ms\n",
            "image 19/183 /content/test/images/IMG_20230913_193610_jpg.rf.6d3bb5ec4ef728e4f3398239a292e9e4.jpg: 640x640 1 Defects-black spots, 1 Defects-white fungus, 1 unripe, 9.1ms\n",
            "image 20/183 /content/test/images/IMG_20230913_193612_jpg.rf.5b8915b5deee87e87f2aee0585d0389d.jpg: 640x640 1 Defects-black spots, 3 Defects-white funguss, 1 unripe, 8.9ms\n",
            "image 21/183 /content/test/images/IMG_20230913_193717_jpg.rf.bc422e05f63ba7c3353c9cfc250dd38c.jpg: 640x640 1 Defects-black spots, 4 Defects-white funguss, 1 unripe, 9.0ms\n",
            "image 22/183 /content/test/images/IMG_20230913_193801_jpg.rf.2a1eb68d1d7708a672bf4eb43f1dad28.jpg: 640x640 6 Defects-black spotss, 2 Defects-white funguss, 1 ripe, 8.7ms\n",
            "image 23/183 /content/test/images/IMG_20230913_193823_jpg.rf.dfaacae3db48f4c8604cd25759f10398.jpg: 640x640 5 Defects-black spotss, 1 Defects-white fungus, 1 ripe, 9.0ms\n",
            "image 24/183 /content/test/images/IMG_20230913_193843_jpg.rf.6132b2baebda41683381281dab5221b5.jpg: 640x640 1 Defects-black spots, 2 Defects-white funguss, 1 ripe, 8.8ms\n",
            "image 25/183 /content/test/images/IMG_20230913_193847_jpg.rf.5a32e80e5b2fbd4014e146fbf7411368.jpg: 640x640 1 Defects-black spots, 3 Defects-white funguss, 1 ripe, 1 unripe, 8.9ms\n",
            "image 26/183 /content/test/images/IMG_20230913_193946_jpg.rf.e2f4d0aa54445e1d572e9aea37ad4638.jpg: 640x640 5 Defects-black spotss, 1 Defects-white fungus, 1 ripe, 9.2ms\n",
            "image 27/183 /content/test/images/IMG_20230913_193951_jpg.rf.4034485c294812841760de16f8d523ec.jpg: 640x640 5 Defects-black spotss, 1 Defects-white fungus, 1 ripe, 8.7ms\n",
            "image 28/183 /content/test/images/IMG_20230913_194013_jpg.rf.e53f307bd4a39ea5b5947bac735bf137.jpg: 640x640 5 Defects-black spotss, 4 Defects-white funguss, 1 ripe, 8.9ms\n",
            "image 29/183 /content/test/images/IMG_20230913_194024_jpg.rf.4ad2b5395a501df72156a0ee69e223c0.jpg: 640x640 5 Defects-black spotss, 1 Defects-holes, 2 Defects-white funguss, 1 ripe, 1 unripe, 11.3ms\n",
            "image 30/183 /content/test/images/IMG_20230913_195048_jpg.rf.7b8a45084a46f1e96a86c808e05fa714.jpg: 640x640 4 Defects-holess, 3 Defects-white funguss, 1 ripe, 8.5ms\n",
            "image 31/183 /content/test/images/IMG_20230913_195136_jpg.rf.f3a08bb9916d6a8e8ab875f0e1a09b00.jpg: 640x640 1 Defects-black spots, 2 Defects-white funguss, 1 unripe, 8.5ms\n",
            "image 32/183 /content/test/images/IMG_20230913_195142_jpg.rf.0846cf905794cb4e8b08d6b76547dc04.jpg: 640x640 1 Defects-black spots, 4 Defects-white funguss, 1 unripe, 8.6ms\n",
            "image 33/183 /content/test/images/IMG_20230913_195444_jpg.rf.09d19b12a07121be45165616ab3e265b.jpg: 640x640 5 Defects-black spotss, 2 Defects-holess, 1 Defects-white fungus, 1 ripe, 8.8ms\n",
            "image 34/183 /content/test/images/IMG_20230913_195458_jpg.rf.26bfcb5b0cc53c12b64c1a9cb9dc6dff.jpg: 640x640 6 Defects-black spotss, 1 Defects-holes, 2 Defects-white funguss, 1 ripe, 8.4ms\n",
            "image 35/183 /content/test/images/IMG_20230913_195531_jpg.rf.e2f0b811488cbc5cc3466f10bf7231c6.jpg: 640x640 4 Defects-black spotss, 1 Defects-white fungus, 1 ripe, 9.5ms\n",
            "image 36/183 /content/test/images/IMG_20230914_160929-1-_jpg.rf.096271139e32ab31fdccaa1d880011b9.jpg: 640x640 4 Defects-black spotss, 2 Defects-white funguss, 1 overripe, 8.9ms\n",
            "image 37/183 /content/test/images/IMG_20230914_161137-1-_jpg.rf.f22a7c2a131b3c5a9cd7149bd473aba3.jpg: 640x640 3 Defects-black spotss, 1 Defects-holes, 2 Defects-white funguss, 1 overripe, 9.3ms\n",
            "image 38/183 /content/test/images/IMG_20230914_161219-1-_jpg.rf.ef68c03ce4f1944cfd9c1a2eee87fd14.jpg: 640x640 3 Defects-black spotss, 2 Defects-holess, 2 Defects-white funguss, 1 overripe, 9.8ms\n",
            "image 39/183 /content/test/images/IMG_20230914_161307-1-_jpg.rf.9907226617933b496e5a4cd097a954f3.jpg: 640x640 4 Defects-black spotss, 3 Defects-white funguss, 1 overripe, 10.9ms\n",
            "image 40/183 /content/test/images/IMG_20230914_161454-1-_jpg.rf.3a47154bc5cb2286e10a69d90e28d0b9.jpg: 640x640 3 Defects-black spotss, 1 Defects-holes, 2 Defects-white funguss, 1 overripe, 9.6ms\n",
            "image 41/183 /content/test/images/IMG_20230914_162533-1-_jpg.rf.8021c4bdeb7f9d5e0278dac3b4ea5026.jpg: 640x640 1 Defects-black spots, 3 Defects-holess, 2 Defects-white funguss, 1 overripe, 9.8ms\n",
            "image 42/183 /content/test/images/IMG_20230914_162544-1-_jpg.rf.7531accb7f4cc0f77fff7fd37972f9c2.jpg: 640x640 1 Defects-black spots, 3 Defects-holess, 3 Defects-white funguss, 1 overripe, 9.4ms\n",
            "image 43/183 /content/test/images/IMG_20230914_162628-1-_jpg.rf.89f4cf0bd2d811333d10c92ad00a0902.jpg: 640x640 1 Defects-black spots, 2 Defects-holess, 2 Defects-white funguss, 1 overripe, 8.9ms\n",
            "image 44/183 /content/test/images/IMG_20230914_162630-1-_jpg.rf.ff282cff4f519a9a7d52b23a93453ae2.jpg: 640x640 1 Defects-black spots, 2 Defects-holess, 2 Defects-white funguss, 1 overripe, 8.8ms\n",
            "image 45/183 /content/test/images/IMG_20230914_162935-1-_jpg.rf.c4ab8d15b344b83bfa67a75dda2c4f94.jpg: 640x640 1 Defects-black spots, 2 Defects-holess, 3 Defects-white funguss, 1 overripe, 9.0ms\n",
            "image 46/183 /content/test/images/IMG_20230914_162935_1-1-_jpg.rf.f2404cec91d03de3ae10aa1178c4b6dc.jpg: 640x640 1 Defects-black spots, 2 Defects-holess, 3 Defects-white funguss, 1 overripe, 8.9ms\n",
            "image 47/183 /content/test/images/IMG_20230914_163055-1-_jpg.rf.fe40d2461894ff95a23e584c0a4d6ab6.jpg: 640x640 1 Defects-black spots, 3 Defects-holess, 1 Defects-white fungus, 1 overripe, 10.8ms\n",
            "image 48/183 /content/test/images/IMG_20230914_163146-1-_jpg.rf.14a213a496fb6d4332fe13fe9360bfd5.jpg: 640x640 4 Defects-black spotss, 1 Defects-holes, 4 Defects-white funguss, 1 overripe, 8.8ms\n",
            "image 49/183 /content/test/images/IMG_20230914_163149-1-_jpg.rf.5e85ac59193ed371dd9a7161b4e14247.jpg: 640x640 4 Defects-black spotss, 1 Defects-holes, 2 Defects-white funguss, 1 overripe, 8.7ms\n",
            "image 50/183 /content/test/images/IMG_20230914_164124-1-_jpg.rf.782b268636320e3130373bbde1764e6d.jpg: 640x640 4 Defects-black spotss, 2 Defects-white funguss, 1 overripe, 15.3ms\n",
            "image 51/183 /content/test/images/IMG_20230914_164223-1-_jpg.rf.f72ef827227c9a7e736c08e1ab1032a6.jpg: 640x640 1 Defects-black spots, 2 Defects-holess, 2 Defects-white funguss, 1 overripe, 9.1ms\n",
            "image 52/183 /content/test/images/IMG_20230914_164300-1-_jpg.rf.456a258d4c2cba197a49c83f163b1bc9.jpg: 640x640 1 Defects-black spots, 2 Defects-holess, 2 Defects-white funguss, 1 overripe, 8.6ms\n",
            "image 53/183 /content/test/images/IMG_20230914_164309-1-_jpg.rf.46c277d7f6f1c4109aa181e9284981d1.jpg: 640x640 3 Defects-holess, 2 Defects-white funguss, 1 overripe, 9.6ms\n",
            "image 54/183 /content/test/images/IMG_20230914_170708-1-_jpg.rf.10d747905961e029cef53d1f8b150609.jpg: 640x640 3 Defects-black spotss, 4 Defects-holess, 2 Defects-white funguss, 1 ripe, 8.8ms\n",
            "image 55/183 /content/test/images/IMG_20230914_170721-1-_jpg.rf.e04e391499573786935d4656c7c8ebea.jpg: 640x640 4 Defects-black spotss, 3 Defects-holess, 2 Defects-white funguss, 1 ripe, 8.6ms\n",
            "image 56/183 /content/test/images/IMG_20230914_170735-1-_jpg.rf.291b255bca275cf734f73a71112e0530.jpg: 640x640 1 Defects-black spots, 2 Defects-holess, 2 Defects-white funguss, 1 unripe, 8.8ms\n",
            "image 57/183 /content/test/images/IMG_20230914_170738-1-_jpg.rf.52127549d7af0d2274a5e30a62582c33.jpg: 640x640 3 Defects-black spotss, 2 Defects-holess, 3 Defects-white funguss, 1 unripe, 8.7ms\n",
            "image 58/183 /content/test/images/IMG_20230914_170801-1-_jpg.rf.4a8878e7cec78f6b906b1d7b17889591.jpg: 640x640 2 Defects-black spotss, 6 Defects-holess, 2 Defects-white funguss, 1 ripe, 8.9ms\n",
            "image 59/183 /content/test/images/IMG_20230914_171412-1-_jpg.rf.119cb2292a2ee3ad01d79d92cbf51c4e.jpg: 640x640 3 Defects-black spotss, 3 Defects-holess, 2 Defects-white funguss, 1 ripe, 8.8ms\n",
            "image 60/183 /content/test/images/IMG_20230914_171413-1-_jpg.rf.ea42e6fd7726339ad88f9619ee526035.jpg: 640x640 3 Defects-black spotss, 3 Defects-holess, 2 Defects-white funguss, 1 ripe, 9.2ms\n",
            "image 61/183 /content/test/images/IMG_20230914_171510-1-_jpg.rf.7854425e443f4c0aa0165ec1080f8a84.jpg: 640x640 7 Defects-holess, 5 Defects-white funguss, 1 ripe, 8.4ms\n",
            "image 62/183 /content/test/images/IMG_20230914_171600-1-_jpg.rf.224040b07ab559d129f3b40202b60c92.jpg: 640x640 1 Defects-black spots, 3 Defects-holess, 4 Defects-white funguss, 1 ripe, 8.9ms\n",
            "image 63/183 /content/test/images/IMG_20230914_171629-1-_jpg.rf.87bd3c0cf7d964819b465642661b0ab8.jpg: 640x640 2 Defects-holess, 3 Defects-white funguss, 1 unripe, 9.0ms\n",
            "image 64/183 /content/test/images/IMG_20230914_171650-1-_jpg.rf.d2ca89190361ec37230d309300b7f82c.jpg: 640x640 3 Defects-holess, 4 Defects-white funguss, 1 ripe, 8.7ms\n",
            "image 65/183 /content/test/images/IMG_20230914_172505-1-_jpg.rf.984befa3ed0e44dbf28824fe0cd8d169.jpg: 640x640 3 Defects-holess, 4 Defects-white funguss, 1 ripe, 8.5ms\n",
            "image 66/183 /content/test/images/IMG_20230914_172526-1-_jpg.rf.c53fbb408b6270f6cf92ea343327b6a9.jpg: 640x640 2 Defects-black spotss, 3 Defects-holess, 2 Defects-white funguss, 1 ripe, 1 unripe, 9.7ms\n",
            "image 67/183 /content/test/images/IMG_20230914_172632-1-_jpg.rf.4c69425ed491eabd5f0b6d612e1f86c7.jpg: 640x640 2 Defects-black spotss, 4 Defects-holess, 2 Defects-white funguss, 1 ripe, 8.6ms\n",
            "image 68/183 /content/test/images/IMG_20230914_172652-1-_jpg.rf.b5692c6421d2c01b0467b621841d846b.jpg: 640x640 2 Defects-black spotss, 2 Defects-holess, 2 Defects-white funguss, 1 ripe, 8.8ms\n",
            "image 69/183 /content/test/images/IMG_20230914_172730-1-_jpg.rf.a204e458a34a14342b7407eedb92280a.jpg: 640x640 3 Defects-black spotss, 3 Defects-holess, 3 Defects-white funguss, 1 ripe, 8.6ms\n",
            "image 70/183 /content/test/images/IMG_20230914_172747-1-_jpg.rf.81c76877c6f10e0a65b589eb641b1111.jpg: 640x640 4 Defects-black spotss, 2 Defects-holess, 1 Defects-white fungus, 1 ripe, 8.6ms\n",
            "image 71/183 /content/test/images/IMG_20230916_203000_1_jpg.rf.4b6fb9d06d26003076a7a9a19434f5cc.jpg: 640x640 4 Defects-black spotss, 11 Defects-holess, 1 unripe, 8.4ms\n",
            "image 72/183 /content/test/images/IMG_20230916_203003_jpg.rf.e71069f9a538ec3a4696495178f5cc03.jpg: 640x640 4 Defects-black spotss, 11 Defects-holess, 1 unripe, 8.7ms\n",
            "image 73/183 /content/test/images/IMG_20230916_203014_jpg.rf.4696fdb3cec0ae3b0a7ebda2c41f1bbc.jpg: 640x640 4 Defects-black spotss, 11 Defects-holess, 1 unripe, 8.6ms\n",
            "image 74/183 /content/test/images/IMG_20230916_203104_jpg.rf.2772b972172844a52bd0c4a6fb4a3f9d.jpg: 640x640 2 Defects-black spotss, 11 Defects-holess, 1 unripe, 8.6ms\n",
            "image 75/183 /content/test/images/IMG_20230916_203113_jpg.rf.162ba2368d23771617bb8f848b8a1da3.jpg: 640x640 2 Defects-black spotss, 9 Defects-holess, 1 unripe, 8.5ms\n",
            "image 76/183 /content/test/images/IMG_20230916_203129_jpg.rf.c54343d83bcefa85450f86d74879103a.jpg: 640x640 2 Defects-black spotss, 11 Defects-holess, 1 unripe, 9.0ms\n",
            "image 77/183 /content/test/images/IMG_20230916_203135_jpg.rf.2b9c82a3805aeaddee547c78af135696.jpg: 640x640 2 Defects-black spotss, 8 Defects-holess, 1 unripe, 8.5ms\n",
            "image 78/183 /content/test/images/IMG_20230916_203142_jpg.rf.d920e474f9b3382ba280cc784b2b21a0.jpg: 640x640 2 Defects-black spotss, 8 Defects-holess, 1 unripe, 8.7ms\n",
            "image 79/183 /content/test/images/IMG_20230916_203145_1_jpg.rf.c80563de08bb34d3aaab64a3ab357546.jpg: 640x640 2 Defects-black spotss, 9 Defects-holess, 1 unripe, 10.7ms\n",
            "image 80/183 /content/test/images/IMG_20231122_232115_jpg.rf.2118ac99a28d36b3094bdbcec5c6845c.jpg: 640x640 2 Defects-black spotss, 1 Defects-holes, 2 Defects-white funguss, 1 unripe, 9.0ms\n",
            "image 81/183 /content/test/images/IMG_20231122_232124_jpg.rf.eeaceea6e4e6fca36e066c13fd98365b.jpg: 640x640 2 Defects-black spotss, 1 Defects-holes, 2 Defects-white funguss, 1 unripe, 8.5ms\n",
            "image 82/183 /content/test/images/IMG_20231122_232325_jpg.rf.2c222532009546f1af52b9baf217d469.jpg: 640x640 2 Defects-black spotss, 1 Defects-holes, 2 Defects-white funguss, 1 unripe, 8.6ms\n",
            "image 83/183 /content/test/images/IMG_20231122_232335_jpg.rf.f33a757c1c85a6083337f086431ad822.jpg: 640x640 2 Defects-black spotss, 1 Defects-holes, 2 Defects-white funguss, 1 unripe, 8.6ms\n",
            "image 84/183 /content/test/images/IMG_20231122_232432_jpg.rf.b9623d27175b435d5101957275a56175.jpg: 640x640 2 Defects-black spotss, 1 Defects-holes, 2 Defects-white funguss, 1 unripe, 8.5ms\n",
            "image 85/183 /content/test/images/IMG_20231122_232801_jpg.rf.d9a54afed8dfcc26c80e2f28c52e8179.jpg: 640x640 2 Defects-black spotss, 1 Defects-holes, 2 Defects-white funguss, 1 unripe, 8.9ms\n",
            "image 86/183 /content/test/images/IMG_20231122_234639_jpg.rf.3835dd93a9bb52b18b76059e366bedca.jpg: 640x640 1 Defects-black spots, 1 Defects-white fungus, 1 unripe, 9.1ms\n",
            "image 87/183 /content/test/images/IMG_20231122_234642_jpg.rf.9e64f7a6bcd3418371460f7174149659.jpg: 640x640 1 Defects-black spots, 1 Defects-white fungus, 1 unripe, 9.0ms\n",
            "image 88/183 /content/test/images/IMG_20231122_234702_jpg.rf.33fed0c9d40a1026826edf297b4cce2d.jpg: 640x640 1 Defects-black spots, 1 Defects-white fungus, 1 unripe, 9.3ms\n",
            "image 89/183 /content/test/images/IMG_20231122_234745_jpg.rf.5139b6c4a8c7053401301d764fa09ec6.jpg: 640x640 1 Defects-black spots, 1 Defects-white fungus, 2 unripes, 9.0ms\n",
            "image 90/183 /content/test/images/IMG_20231123_001126_jpg.rf.19eea75061d3977265002a797d8ccb03.jpg: 640x640 2 Defects-black spotss, 1 Defects-white fungus, 1 unripe, 8.8ms\n",
            "image 91/183 /content/test/images/IMG_20231123_001205_jpg.rf.e42499cedd793bd01a9e80a2da8ea47e.jpg: 640x640 2 Defects-black spotss, 1 Defects-white fungus, 1 unripe, 9.5ms\n",
            "image 92/183 /content/test/images/IMG_20231123_001256_jpg.rf.e27d0613598d3c8b28a3d8d5ccef3ac9.jpg: 640x640 2 Defects-black spotss, 1 Defects-white fungus, 1 unripe, 9.0ms\n",
            "image 93/183 /content/test/images/IMG_20231123_001315_jpg.rf.6cb0b00c62c312adc83790d0c2c18b3e.jpg: 640x640 2 Defects-black spotss, 1 Defects-white fungus, 1 unripe, 9.2ms\n",
            "image 94/183 /content/test/images/IMG_20231123_001322_jpg.rf.3f5036a965997a3c2ce74cd76126a414.jpg: 640x640 2 Defects-black spotss, 1 Defects-white fungus, 1 unripe, 8.8ms\n",
            "image 95/183 /content/test/images/IMG_20231123_001610_jpg.rf.e0950b290b9b0a07b101ed947dd2e400.jpg: 640x640 1 Defects-holes, 2 Defects-white funguss, 1 unripe, 8.7ms\n",
            "image 96/183 /content/test/images/IMG_20231123_001646_jpg.rf.4b46325a52407205067ba1c215852d6f.jpg: 640x640 1 Defects-holes, 2 Defects-white funguss, 1 unripe, 10.2ms\n",
            "image 97/183 /content/test/images/IMG_20231123_001702_jpg.rf.71f06f7cc078b3d7b3028b285cadf616.jpg: 640x640 1 Defects-holes, 2 Defects-white funguss, 1 unripe, 8.6ms\n",
            "image 98/183 /content/test/images/IMG_20231123_001721_jpg.rf.f78fd8e84e2e235f9ba134a59442448b.jpg: 640x640 1 Defects-holes, 2 Defects-white funguss, 1 unripe, 8.5ms\n",
            "image 99/183 /content/test/images/IMG_20231123_001754_jpg.rf.6be313a67a700540b5a8cf00c7b4b4bd.jpg: 640x640 1 Defects-holes, 2 Defects-white funguss, 1 unripe, 8.3ms\n",
            "image 100/183 /content/test/images/IMG_20231126_175455_jpg.rf.899ffe62d93be6b26106075879f94d43.jpg: 640x640 2 Defects-black spotss, 1 Defects-holes, 2 Defects-white funguss, 1 overripe, 13.2ms\n",
            "image 101/183 /content/test/images/IMG_20231126_175505_jpg.rf.5f763240999f2ab111dc9679c4f38385.jpg: 640x640 2 Defects-black spotss, 1 Defects-holes, 2 Defects-white funguss, 1 overripe, 14.1ms\n",
            "image 102/183 /content/test/images/IMG_20231126_175510_jpg.rf.6716726047403b239835f55fa7947c73.jpg: 640x640 2 Defects-black spotss, 1 Defects-holes, 2 Defects-white funguss, 1 overripe, 8.7ms\n",
            "image 103/183 /content/test/images/IMG_20231126_175523_1_jpg.rf.2bde1ba3d0b10a29067a16c398b7a81a.jpg: 640x640 2 Defects-black spotss, 1 Defects-holes, 2 Defects-white funguss, 1 overripe, 10.5ms\n",
            "image 104/183 /content/test/images/IMG_20231126_175817_jpg.rf.0509d85c82c57f10769ebd50a9a5e2eb.jpg: 640x640 1 Defects-black spots, 1 Defects-white fungus, 1 overripe, 8.5ms\n",
            "image 105/183 /content/test/images/IMG_20231126_180407_jpg.rf.228abaafd466552cb41485c9cab72f23.jpg: 640x640 2 Defects-black spotss, 1 Defects-holes, 2 Defects-white funguss, 1 overripe, 8.9ms\n",
            "image 106/183 /content/test/images/IMG_20231126_180419_jpg.rf.13d4659498018b137cf9f5ac35a1fa53.jpg: 640x640 2 Defects-black spotss, 1 Defects-holes, 2 Defects-white funguss, 1 overripe, 9.1ms\n",
            "image 107/183 /content/test/images/IMG_20231205_190020_jpg.rf.b46eee80bfc1351d06a5d4c4a9afe757.jpg: 640x640 1 Defects-holes, 1 Defects-white fungus, 1 overripe, 8.5ms\n",
            "image 108/183 /content/test/images/IMG_20231205_190137_jpg.rf.4b68396e44c1fa7f92aa5eb8e69526f6.jpg: 640x640 1 Defects-holes, 1 Defects-white fungus, 1 overripe, 10.4ms\n",
            "image 109/183 /content/test/images/IMG_20231205_190152_jpg.rf.8413ac42ccf3184113de6ab6f639e543.jpg: 640x640 2 Defects-holess, 1 Defects-white fungus, 1 overripe, 8.8ms\n",
            "image 110/183 /content/test/images/IMG_20231205_190223_jpg.rf.4f7fb548c524dc6632d274e6a44aefd6.jpg: 640x640 1 Defects-holes, 1 Defects-white fungus, 1 overripe, 8.6ms\n",
            "image 111/183 /content/test/images/IMG_20231205_190318_jpg.rf.d07bc78d3d344a2bfb3942b273104ff9.jpg: 640x640 1 Defects-holes, 1 Defects-white fungus, 1 overripe, 8.4ms\n",
            "image 112/183 /content/test/images/IMG_20231205_190320_jpg.rf.2ab704a6359aaa096d5525353d029aa7.jpg: 640x640 1 Defects-holes, 1 Defects-white fungus, 1 overripe, 8.7ms\n",
            "image 113/183 /content/test/images/IMG_20231205_190529_jpg.rf.b44977cd10b76aa5ee9a078e032bc169.jpg: 640x640 1 Defects-holes, 1 Defects-white fungus, 1 overripe, 8.9ms\n",
            "image 114/183 /content/test/images/IMG_20231205_190835_jpg.rf.d0173b8a467e18f2b817a76638ea18c5.jpg: 640x640 1 Defects-black spots, 1 overripe, 10.0ms\n",
            "image 115/183 /content/test/images/IMG_20231205_191159_jpg.rf.b770a59b05edf2a23c604c40534aebd4.jpg: 640x640 1 overripe, 8.8ms\n",
            "image 116/183 /content/test/images/IMG_20231205_191214_jpg.rf.fc694f345f39e1ed46c975bed3202a49.jpg: 640x640 1 overripe, 9.9ms\n",
            "image 117/183 /content/test/images/IMG_20231205_191219_jpg.rf.f4a4c91de813738327fc8ffc8dd6fca9.jpg: 640x640 1 overripe, 8.7ms\n",
            "image 118/183 /content/test/images/IMG_20231205_191230_jpg.rf.2d81d1c64eea0875efb6c42452d0f363.jpg: 640x640 1 overripe, 8.6ms\n",
            "image 119/183 /content/test/images/IMG_20231205_191243_jpg.rf.ec78245b1a15f8d85de5a04ca5a71d3b.jpg: 640x640 1 overripe, 9.4ms\n",
            "image 120/183 /content/test/images/IMG_20231205_191256_jpg.rf.ec2d14ed281a326e6e92b537fd0d1a0b.jpg: 640x640 1 overripe, 8.5ms\n",
            "image 121/183 /content/test/images/IMG_20231205_191423_jpg.rf.565931cb6d9dbf329428b889a54a905f.jpg: 640x640 1 overripe, 8.7ms\n",
            "image 122/183 /content/test/images/WhatsApp-Image-2023-09-14-at-20-34-49-2-_jpeg.rf.3884eab1239790f30f3995d5fe976737.jpg: 640x640 1 ripe, 8.9ms\n",
            "image 123/183 /content/test/images/WhatsApp-Image-2023-09-14-at-20-34-50-2-_jpeg.rf.d7a9cf630335ecf696c9c0d07beb86c2.jpg: 640x640 1 ripe, 8.9ms\n",
            "image 124/183 /content/test/images/WhatsApp-Image-2023-09-14-at-20-34-51-2-_jpeg.rf.2c79338bcb740588c3d1d4acb0a5662c.jpg: 640x640 1 ripe, 9.2ms\n",
            "image 125/183 /content/test/images/WhatsApp-Image-2023-09-14-at-20-34-51_jpeg.rf.5794e04b08947dc202ec8b57c628bf10.jpg: 640x640 1 ripe, 8.7ms\n",
            "image 126/183 /content/test/images/WhatsApp-Image-2023-09-14-at-20-34-57_jpeg.rf.b21b9078f844ea392aefd71b507aab05.jpg: 640x640 1 ripe, 9.0ms\n",
            "image 127/183 /content/test/images/WhatsApp-Image-2023-09-14-at-20-35-59-2-_jpeg.rf.fe4f00cb4c699bcb3a1c530ed673aab9.jpg: 640x640 1 ripe, 9.2ms\n",
            "image 128/183 /content/test/images/WhatsApp-Image-2023-09-14-at-20-36-02-2-_jpeg.rf.6857293f9ff4592646c0b717c2c03011.jpg: 640x640 1 ripe, 8.6ms\n",
            "image 129/183 /content/test/images/WhatsApp-Image-2023-09-14-at-20-36-06-3-_jpeg.rf.8cc1171533f868f3e21e4f1e1ac7d326.jpg: 640x640 1 ripe, 8.4ms\n",
            "image 130/183 /content/test/images/WhatsApp-Image-2023-09-14-at-20-36-07-2-_jpeg.rf.b2ee5d4f9de9c49c7b5d26ff5acab31d.jpg: 640x640 1 ripe, 10.5ms\n",
            "image 131/183 /content/test/images/WhatsApp-Image-2023-09-14-at-20-36-09_jpeg.rf.22c9b7bb1a0d4d9b117578e22f3622c4.jpg: 640x640 1 ripe, 9.6ms\n",
            "image 132/183 /content/test/images/WhatsApp-Image-2023-09-14-at-20-36-14-2-_jpeg.rf.f4175c8496f83c013e1a0d9b2037a51f.jpg: 640x640 1 ripe, 8.3ms\n",
            "image 133/183 /content/test/images/WhatsApp-Image-2023-09-14-at-20-38-12_jpeg.rf.ee816399af32e6304bd6b113c441f40a.jpg: 640x640 1 overripe, 8.2ms\n",
            "image 134/183 /content/test/images/WhatsApp-Image-2023-09-14-at-20-38-13-3-_jpeg.rf.7088158005498f6b286f12151cb53236.jpg: 640x640 1 ripe, 8.7ms\n",
            "image 135/183 /content/test/images/WhatsApp-Image-2023-09-14-at-20-38-15-1-_jpeg.rf.e2d64f269522f0818760845b9fdfb137.jpg: 640x640 1 overripe, 10.4ms\n",
            "image 136/183 /content/test/images/WhatsApp-Image-2023-09-14-at-20-38-18-1-_jpeg.rf.aea801fe4a14d9ce48fa18a3981df112.jpg: 640x640 1 overripe, 1 ripe, 8.6ms\n",
            "image 137/183 /content/test/images/WhatsApp-Image-2023-09-14-at-20-38-22-1-_jpeg.rf.7a947b9397d93374acfc2133ffda33a1.jpg: 640x640 1 ripe, 10.0ms\n",
            "image 138/183 /content/test/images/WhatsApp-Image-2023-09-14-at-20-39-22_jpeg.rf.9ed990a68757bf7b4879cfad93e57482.jpg: 640x640 1 overripe, 8.9ms\n",
            "image 139/183 /content/test/images/WhatsApp-Image-2023-09-14-at-20-39-23-2-_jpeg.rf.6681422e85b7a98d99f4560a07c3b825.jpg: 640x640 1 ripe, 8.9ms\n",
            "image 140/183 /content/test/images/WhatsApp-Image-2023-09-14-at-20-39-24_jpeg.rf.20b9d564a59017108bb604b367cab769.jpg: 640x640 1 ripe, 8.7ms\n",
            "image 141/183 /content/test/images/WhatsApp-Image-2023-09-14-at-20-39-25-2-_jpeg.rf.9d5bffb2f164238c4ab5f9bca1da792e.jpg: 640x640 1 ripe, 9.1ms\n",
            "image 142/183 /content/test/images/WhatsApp-Image-2023-09-14-at-20-39-30-1-_jpeg.rf.6072151048a612f718c3399f9f9e3883.jpg: 640x640 1 overripe, 8.3ms\n",
            "image 143/183 /content/test/images/WhatsApp-Image-2023-09-14-at-20-39-31-2-_jpeg.rf.386ac31bc0bd0a17e15c8a43eb472fec.jpg: 640x640 1 overripe, 8.3ms\n",
            "image 144/183 /content/test/images/WhatsApp-Image-2023-09-14-at-20-39-32-2-_jpeg.rf.5c18cd18f80151efdb0e2c3b7bd096f1.jpg: 640x640 1 ripe, 9.4ms\n",
            "image 145/183 /content/test/images/WhatsApp-Image-2023-09-14-at-20-39-32_jpeg.rf.9244ba8fee2ed1f19559b38c968112d3.jpg: 640x640 1 overripe, 1 ripe, 8.3ms\n",
            "image 146/183 /content/test/images/WhatsApp-Image-2023-09-14-at-20-39-37_jpeg.rf.bd55c06d87ec9c55a3c7cf97154ad3e3.jpg: 640x640 1 ripe, 9.1ms\n",
            "image 147/183 /content/test/images/WhatsApp-Image-2023-09-14-at-20-40-44-3-_jpeg.rf.ff0b9052a00e6a11fa1106a5fc185974.jpg: 640x640 1 ripe, 8.5ms\n",
            "image 148/183 /content/test/images/WhatsApp-Image-2023-09-14-at-20-40-49-1-_jpeg.rf.904d9d5d0fca5d7cb218347b126c8f8c.jpg: 640x640 1 ripe, 10.4ms\n",
            "image 149/183 /content/test/images/WhatsApp-Image-2023-09-14-at-20-40-50-1-_jpeg.rf.97932f59955944f337d3db2701a42fbd.jpg: 640x640 1 ripe, 8.6ms\n",
            "image 150/183 /content/test/images/WhatsApp-Image-2023-09-14-at-20-40-51-1-_jpeg.rf.b9c2451d6b82dbeb16a69fbc1faf7d04.jpg: 640x640 1 overripe, 8.4ms\n",
            "image 151/183 /content/test/images/WhatsApp-Image-2023-09-14-at-20-42-06_jpeg.rf.b78f96afb5d49bec5409d932702c9616.jpg: 640x640 1 overripe, 1 ripe, 8.3ms\n",
            "image 152/183 /content/test/images/WhatsApp-Image-2023-09-14-at-20-42-09_jpeg.rf.6468659c5d2525b7f6d66ddbed78a3ee.jpg: 640x640 1 overripe, 8.5ms\n",
            "image 153/183 /content/test/images/WhatsApp-Image-2023-09-14-at-20-42-11-3-_jpeg.rf.a575042e1a8ee0fa3409cb04c719cdf3.jpg: 640x640 1 ripe, 2 unripes, 8.2ms\n",
            "image 154/183 /content/test/images/WhatsApp-Image-2023-09-14-at-20-42-12_jpeg.rf.6a2a18e2c354426bab882ba917071ada.jpg: 640x640 1 overripe, 4 ripes, 2 unripes, 8.5ms\n",
            "image 155/183 /content/test/images/WhatsApp-Image-2023-09-14-at-20-42-14_jpeg.rf.289777d258bda877945b2e3032f93128.jpg: 640x640 3 ripes, 15.6ms\n",
            "image 156/183 /content/test/images/WhatsApp-Image-2023-09-15-at-00-40-31-1-_jpeg.rf.5ebae298b56f60876a9d0693e1d3c6db.jpg: 640x640 1 ripe, 11.8ms\n",
            "image 157/183 /content/test/images/WhatsApp-Image-2023-09-15-at-00-40-34-2-_jpeg.rf.a298d8510a12bfffa01a7a11ae3f4a72.jpg: 640x640 1 ripe, 9.5ms\n",
            "image 158/183 /content/test/images/WhatsApp-Image-2023-09-15-at-00-40-39_jpeg.rf.31217392ccc68888058f8cced3b450f5.jpg: 640x640 1 ripe, 8.7ms\n",
            "image 159/183 /content/test/images/WhatsApp-Image-2023-09-15-at-00-40-43-1-_jpeg.rf.4a065cf86bae8687f9b25484b58a6234.jpg: 640x640 1 ripe, 1 unripe, 8.6ms\n",
            "image 160/183 /content/test/images/WhatsApp-Image-2023-09-15-at-00-40-50-3-_jpeg.rf.ed48481df61bd480793cd65dd4af401d.jpg: 640x640 1 ripe, 8.3ms\n",
            "image 161/183 /content/test/images/WhatsApp-Image-2023-09-15-at-00-40-51_jpeg.rf.8204ec1c4982b36c800e01b4410f5846.jpg: 640x640 1 ripe, 1 unripe, 8.5ms\n",
            "image 162/183 /content/test/images/WhatsApp-Image-2023-09-15-at-00-43-30_jpeg.rf.55578431bdd051a1d41fab83409da5ec.jpg: 640x640 1 overripe, 8.7ms\n",
            "image 163/183 /content/test/images/WhatsApp-Image-2023-09-15-at-00-43-31-1-_jpeg.rf.b18ba6d5daf00a6781aa3f8ed6a2f3ce.jpg: 640x640 1 overripe, 8.5ms\n",
            "image 164/183 /content/test/images/WhatsApp-Image-2023-09-15-at-00-45-26-1-_jpeg.rf.5b6de174c853c8ee9ba183ec25aab625.jpg: 640x640 1 ripe, 8.6ms\n",
            "image 165/183 /content/test/images/WhatsApp-Image-2023-09-15-at-00-45-33-2-_jpeg.rf.8596347cc133e6281d59462edbd15535.jpg: 640x640 1 ripe, 8.8ms\n",
            "image 166/183 /content/test/images/WhatsApp-Image-2023-09-15-at-00-45-34-2-_jpeg.rf.d56b9e86c40e9abf389f3238566759e4.jpg: 640x640 1 ripe, 8.4ms\n",
            "image 167/183 /content/test/images/WhatsApp-Image-2023-09-15-at-12-34-45-1-_jpeg.rf.c009d1c6a1eecaef97e14543e9fbf747.jpg: 640x640 1 ripe, 8.6ms\n",
            "image 168/183 /content/test/images/WhatsApp-Image-2023-09-15-at-12-34-45-2-_jpeg.rf.d17d75e8a4ddadea15cb428b33ec78b6.jpg: 640x640 1 unripe, 10.8ms\n",
            "image 169/183 /content/test/images/WhatsApp-Image-2023-09-15-at-12-34-48-3-_jpeg.rf.2fe4b522e693701f06a5d67dfb32d6db.jpg: 640x640 1 unripe, 8.9ms\n",
            "image 170/183 /content/test/images/WhatsApp-Image-2023-09-15-at-12-34-52-3-_jpeg.rf.21486ea0841b0285408c7b214eea2809.jpg: 640x640 1 unripe, 8.7ms\n",
            "image 171/183 /content/test/images/ananas_000_jpg.rf.edeafb7a42a44908e3eb27656dcddcd1.jpg: 640x640 1 overripe, 8.9ms\n",
            "image 172/183 /content/test/images/image15_jpeg_jpg.rf.e9cd46f8711ba3cd836b4cc4b4a23aad.jpg: 640x640 1 overripe, 9.4ms\n",
            "image 173/183 /content/test/images/images107_jpg.rf.6f91fc3090238651a2c47e50cf0e8ad6.jpg: 640x640 1 overripe, 8.5ms\n",
            "image 174/183 /content/test/images/images150_jpg.rf.ff7e7922c8a4d0d93d53fe02cc73ee1d.jpg: 640x640 1 overripe, 8.9ms\n",
            "image 175/183 /content/test/images/images165_jpg.rf.e8205986496598c6cbd824d7fffbc1dd.jpg: 640x640 1 unripe, 9.0ms\n",
            "image 176/183 /content/test/images/images320_jpg.rf.e88be1bcf1922eb214eab5dc9710d41c.jpg: 640x640 1 overripe, 8.8ms\n",
            "image 177/183 /content/test/images/images342_jpg.rf.04e1a9fe44f05306e2cad3657730095c.jpg: 640x640 1 unripe, 10.7ms\n",
            "image 178/183 /content/test/images/images383_jpg.rf.24261899c4f5b907dd7057311da6caae.jpg: 640x640 1 overripe, 8.6ms\n",
            "image 179/183 /content/test/images/images386_jpg.rf.311e1868fecc4de0795de43f28dd1594.jpg: 640x640 1 overripe, 8.9ms\n",
            "image 180/183 /content/test/images/images386_jpg.rf.e5dbf4bdc1e80fbd58294b41a340b657.jpg: 640x640 1 overripe, 8.6ms\n",
            "image 181/183 /content/test/images/images399_jpg.rf.bd22028a4d3c947bcfbedf2cad921771.jpg: 640x640 3 overripes, 8.5ms\n",
            "image 182/183 /content/test/images/images69_jpg.rf.c330d27c0bbcf465614fa316c1a5ecc5.jpg: 640x640 3 unripes, 8.3ms\n",
            "image 183/183 /content/test/images/nanas_PNG_jpg.rf.c70ba9d270e7d706997fcf4d7b067c2e.jpg: 640x640 1 overripe, 8.6ms\n",
            "Speed: 1.8ms preprocess, 9.1ms inference, 1.4ms postprocess per image at shape (1, 3, 640, 640)\n",
            "Results saved to \u001b[1mruns/detect/predict4\u001b[0m\n"
          ]
        }
      ]
    },
    {
      "cell_type": "code",
      "source": [
        "import shutil\n",
        "import os\n",
        "from google.colab import files\n",
        "\n",
        "# Define the directory to zip and the output zip path\n",
        "directory_to_zip = '/content/runs/detect/predict4'\n",
        "zip_path = '/content/predict4.zip'\n",
        "\n",
        "# Check if the directory exists before zipping\n",
        "if os.path.exists(directory_to_zip):\n",
        "    # Zip the directory\n",
        "    shutil.make_archive('/content/predict4', 'zip', directory_to_zip)\n",
        "\n",
        "    # Download the zip file\n",
        "    files.download(zip_path)\n",
        "else:\n",
        "    print(f\"Directory not found: {directory_to_zip}\")"
      ],
      "metadata": {
        "colab": {
          "base_uri": "https://localhost:8080/",
          "height": 17
        },
        "id": "STmjQgsaoFSy",
        "outputId": "46e6cb0f-3104-4c66-8ab1-971757d8e1c5"
      },
      "execution_count": null,
      "outputs": [
        {
          "output_type": "display_data",
          "data": {
            "text/plain": [
              "<IPython.core.display.Javascript object>"
            ],
            "application/javascript": [
              "\n",
              "    async function download(id, filename, size) {\n",
              "      if (!google.colab.kernel.accessAllowed) {\n",
              "        return;\n",
              "      }\n",
              "      const div = document.createElement('div');\n",
              "      const label = document.createElement('label');\n",
              "      label.textContent = `Downloading \"${filename}\": `;\n",
              "      div.appendChild(label);\n",
              "      const progress = document.createElement('progress');\n",
              "      progress.max = size;\n",
              "      div.appendChild(progress);\n",
              "      document.body.appendChild(div);\n",
              "\n",
              "      const buffers = [];\n",
              "      let downloaded = 0;\n",
              "\n",
              "      const channel = await google.colab.kernel.comms.open(id);\n",
              "      // Send a message to notify the kernel that we're ready.\n",
              "      channel.send({})\n",
              "\n",
              "      for await (const message of channel.messages) {\n",
              "        // Send a message to notify the kernel that we're ready.\n",
              "        channel.send({})\n",
              "        if (message.buffers) {\n",
              "          for (const buffer of message.buffers) {\n",
              "            buffers.push(buffer);\n",
              "            downloaded += buffer.byteLength;\n",
              "            progress.value = downloaded;\n",
              "          }\n",
              "        }\n",
              "      }\n",
              "      const blob = new Blob(buffers, {type: 'application/binary'});\n",
              "      const a = document.createElement('a');\n",
              "      a.href = window.URL.createObjectURL(blob);\n",
              "      a.download = filename;\n",
              "      div.appendChild(a);\n",
              "      a.click();\n",
              "      div.remove();\n",
              "    }\n",
              "  "
            ]
          },
          "metadata": {}
        },
        {
          "output_type": "display_data",
          "data": {
            "text/plain": [
              "<IPython.core.display.Javascript object>"
            ],
            "application/javascript": [
              "download(\"download_db0e495e-20ef-4b73-bd5b-68903a67476b\", \"predict4.zip\", 25012883)"
            ]
          },
          "metadata": {}
        }
      ]
    },
    {
      "cell_type": "code",
      "metadata": {
        "colab": {
          "base_uri": "https://localhost:8080/",
          "height": 34
        },
        "id": "b30b2420",
        "outputId": "e5c38740-5321-4747-9084-dd62c4fa8ba1"
      },
      "source": [
        "import shutil\n",
        "import os\n",
        "from google.colab import files\n",
        "\n",
        "# Zip the directory\n",
        "zip_path = '/content/runs.zip'\n",
        "shutil.make_archive('/content/runs', 'zip', '/content/runs')\n",
        "\n",
        "# Download the zip file\n",
        "files.download(zip_path)"
      ],
      "execution_count": null,
      "outputs": [
        {
          "output_type": "display_data",
          "data": {
            "text/plain": [
              "<IPython.core.display.Javascript object>"
            ],
            "application/javascript": [
              "\n",
              "    async function download(id, filename, size) {\n",
              "      if (!google.colab.kernel.accessAllowed) {\n",
              "        return;\n",
              "      }\n",
              "      const div = document.createElement('div');\n",
              "      const label = document.createElement('label');\n",
              "      label.textContent = `Downloading \"${filename}\": `;\n",
              "      div.appendChild(label);\n",
              "      const progress = document.createElement('progress');\n",
              "      progress.max = size;\n",
              "      div.appendChild(progress);\n",
              "      document.body.appendChild(div);\n",
              "\n",
              "      const buffers = [];\n",
              "      let downloaded = 0;\n",
              "\n",
              "      const channel = await google.colab.kernel.comms.open(id);\n",
              "      // Send a message to notify the kernel that we're ready.\n",
              "      channel.send({})\n",
              "\n",
              "      for await (const message of channel.messages) {\n",
              "        // Send a message to notify the kernel that we're ready.\n",
              "        channel.send({})\n",
              "        if (message.buffers) {\n",
              "          for (const buffer of message.buffers) {\n",
              "            buffers.push(buffer);\n",
              "            downloaded += buffer.byteLength;\n",
              "            progress.value = downloaded;\n",
              "          }\n",
              "        }\n",
              "      }\n",
              "      const blob = new Blob(buffers, {type: 'application/binary'});\n",
              "      const a = document.createElement('a');\n",
              "      a.href = window.URL.createObjectURL(blob);\n",
              "      a.download = filename;\n",
              "      div.appendChild(a);\n",
              "      a.click();\n",
              "      div.remove();\n",
              "    }\n",
              "  "
            ]
          },
          "metadata": {}
        },
        {
          "output_type": "display_data",
          "data": {
            "text/plain": [
              "<IPython.core.display.Javascript object>"
            ],
            "application/javascript": [
              "download(\"download_89f64b3a-5989-4b87-ae06-32ca55150877\", \"runs.zip\", 282234340)"
            ]
          },
          "metadata": {}
        }
      ]
    }
  ],
  "metadata": {
    "colab": {
      "provenance": [],
      "gpuType": "T4"
    },
    "kernelspec": {
      "display_name": "Python 3",
      "name": "python3"
    },
    "language_info": {
      "name": "python"
    },
    "accelerator": "GPU"
  },
  "nbformat": 4,
  "nbformat_minor": 0
}